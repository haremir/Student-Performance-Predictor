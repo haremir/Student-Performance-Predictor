{
 "cells": [
  {
   "cell_type": "code",
   "execution_count": 1,
   "id": "6ddcda6e",
   "metadata": {},
   "outputs": [],
   "source": [
    "import os\n",
    "import sys"
   ]
  },
  {
   "cell_type": "code",
   "execution_count": 2,
   "id": "9f836c2f",
   "metadata": {},
   "outputs": [],
   "source": [
    "project_root = os.path.abspath(os.path.join(os.getcwd(), '..'))\n",
    "\n",
    "if project_root not in sys.path:\n",
    "    sys.path.append(project_root)\n"
   ]
  },
  {
   "cell_type": "code",
   "execution_count": 3,
   "id": "6bd42cfa",
   "metadata": {},
   "outputs": [],
   "source": [
    "from src.preprocess import preprocess_data\n",
    "from utils.helpers import load_processed_data"
   ]
  },
  {
   "cell_type": "code",
   "execution_count": 4,
   "id": "124393c3",
   "metadata": {},
   "outputs": [],
   "source": [
    "RAW_DATA_PATH = os.path.join(project_root, 'data', 'raw', 'StudentsPerformance.csv')\n",
    "PROCESSED_DATA_DIR = os.path.join(project_root, 'data', 'processed')"
   ]
  },
  {
   "cell_type": "code",
   "execution_count": 5,
   "id": "6cbd70db",
   "metadata": {},
   "outputs": [
    {
     "name": "stdout",
     "output_type": "stream",
     "text": [
      "Veri yükleniyor: c:\\Users\\PC\\Desktop\\student_performance\\data\\raw\\StudentsPerformance.csv\n",
      "Orijinal veri şekli: (1000, 8)\n",
      "Eksik değerler:\n",
      "Eksik değer yok\n",
      "İşlenmiş veriler kaydedildi: c:\\Users\\PC\\Desktop\\student_performance\\data\\processed\\processed_data.pkl\n",
      "İşlenmiş veriler CSV olarak kaydedildi: c:\\Users\\PC\\Desktop\\student_performance\\data\\processed\\processed_data.csv\n"
     ]
    }
   ],
   "source": [
    "processed_data = preprocess_data(RAW_DATA_PATH, PROCESSED_DATA_DIR)"
   ]
  },
  {
   "cell_type": "code",
   "execution_count": 6,
   "id": "5c52570b",
   "metadata": {},
   "outputs": [
    {
     "name": "stdout",
     "output_type": "stream",
     "text": [
      "İşlenmiş veri türleri:\n",
      "  X_train: <class 'pandas.core.frame.DataFrame'>\n",
      "  X_test: <class 'pandas.core.frame.DataFrame'>\n",
      "  X_train_scaled: <class 'numpy.ndarray'>\n",
      "  X_test_scaled: <class 'numpy.ndarray'>\n",
      "  y_math_train: <class 'pandas.core.series.Series'>\n",
      "  y_math_test: <class 'pandas.core.series.Series'>\n",
      "  y_reading_train: <class 'pandas.core.series.Series'>\n",
      "  y_reading_test: <class 'pandas.core.series.Series'>\n",
      "  y_writing_train: <class 'pandas.core.series.Series'>\n",
      "  y_writing_test: <class 'pandas.core.series.Series'>\n",
      "  y_avg_train: <class 'pandas.core.series.Series'>\n",
      "  y_avg_test: <class 'pandas.core.series.Series'>\n",
      "  scaler: <class 'sklearn.preprocessing._data.StandardScaler'>\n",
      "  label_encoders: Dictionary, 5 anahtar\n",
      "  feature_cols: <class 'list'>\n"
     ]
    }
   ],
   "source": [
    "print(f\"İşlenmiş veri türleri:\")\n",
    "for key, value in processed_data.items():\n",
    "    if isinstance(value, dict):\n",
    "        print(f\"  {key}: Dictionary, {len(value)} anahtar\")\n",
    "    else:\n",
    "        print(f\"  {key}: {type(value)}\")"
   ]
  },
  {
   "cell_type": "code",
   "execution_count": 7,
   "id": "d83efb80",
   "metadata": {},
   "outputs": [
    {
     "name": "stdout",
     "output_type": "stream",
     "text": [
      "\n",
      "Kaydedilen veri başarıyla yüklendi.\n"
     ]
    }
   ],
   "source": [
    "processed_data_path = os.path.join(PROCESSED_DATA_DIR, 'processed_data.pkl')\n",
    "loaded_data = load_processed_data(processed_data_path)\n",
    "print(\"\\nKaydedilen veri başarıyla yüklendi.\")\n"
   ]
  },
  {
   "cell_type": "code",
   "execution_count": 8,
   "id": "941a53aa",
   "metadata": {},
   "outputs": [
    {
     "name": "stdout",
     "output_type": "stream",
     "text": [
      "Yüklenen X_train boyutu: (800, 5)\n",
      "Yüklenen X_test boyutu: (200, 5)\n"
     ]
    }
   ],
   "source": [
    "print(f\"Yüklenen X_train boyutu: {loaded_data['X_train'].shape}\")\n",
    "print(f\"Yüklenen X_test boyutu: {loaded_data['X_test'].shape}\")\n"
   ]
  }
 ],
 "metadata": {
  "kernelspec": {
   "display_name": "Python 3",
   "language": "python",
   "name": "python3"
  },
  "language_info": {
   "codemirror_mode": {
    "name": "ipython",
    "version": 3
   },
   "file_extension": ".py",
   "mimetype": "text/x-python",
   "name": "python",
   "nbconvert_exporter": "python",
   "pygments_lexer": "ipython3",
   "version": "3.13.1"
  }
 },
 "nbformat": 4,
 "nbformat_minor": 5
}
